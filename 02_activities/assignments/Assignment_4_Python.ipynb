{
 "cells": [
  {
   "cell_type": "markdown",
   "metadata": {},
   "source": [
    "#### Assignment 4 Python Visualization \n",
    "##### Data Source: https://data.ontario.ca/dataset/4edcd678-6f24-4064-970b-b7254fc6671e/resource/8f786bb5-01ac-4e7d-b89f-3437a601941b/download/mltsd_v0906_18_tab2qq.csv\n",
    "\n"
   ]
  }
 ],
 "metadata": {
  "language_info": {
   "name": "python"
  }
 },
 "nbformat": 4,
 "nbformat_minor": 2
}
